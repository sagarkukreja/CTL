{
 "cells": [
  {
   "cell_type": "code",
   "execution_count": 4,
   "metadata": {},
   "outputs": [],
   "source": [
    "from keras.applications.resnet50 import ResNet50\n",
    "from keras.preprocessing import image\n",
    "from keras.applications.resnet50 import preprocess_input, decode_predictions\n",
    "import numpy as np\n",
    "\n",
    "\n",
    "model = ResNet50(weights='imagenet')\n",
    "\n",
    "img_path = '/media/sagar/D/ctranz/vehicle classification database/image_classification/vehicle_classification_dataset/bus/1765.jpg'\n",
    "img = image.load_img(img_path, target_size=(224, 224))\n",
    "x = image.img_to_array(img)\n",
    "#x = np.expand_dims(x, axis=0)\n",
    "x = preprocess_input(x)"
   ]
  },
  {
   "cell_type": "code",
   "execution_count": 6,
   "metadata": {},
   "outputs": [
    {
     "data": {
      "text/plain": [
       "array([[[ 1.8060997e+01, -3.0778999e+01, -5.3680000e+01],\n",
       "        [ 4.0609970e+00, -4.4778999e+01, -6.7680000e+01],\n",
       "        [ 6.0997009e-02, -4.8778999e+01, -7.1680000e+01],\n",
       "        ...,\n",
       "        [ 1.5006100e+02,  1.2922101e+02,  8.5320000e+01],\n",
       "        [ 1.4806100e+02,  1.2722100e+02,  8.3320000e+01],\n",
       "        [ 1.4806100e+02,  1.2722100e+02,  8.3320000e+01]],\n",
       "\n",
       "       [[ 3.0609970e+00, -3.7778999e+01, -6.1680000e+01],\n",
       "        [ 2.0609970e+00, -4.0778999e+01, -6.4680000e+01],\n",
       "        [ 1.0060997e+01, -3.2778999e+01, -5.6680000e+01],\n",
       "        ...,\n",
       "        [ 1.5006100e+02,  1.2922101e+02,  8.5320000e+01],\n",
       "        [ 1.4806100e+02,  1.2722100e+02,  8.3320000e+01],\n",
       "        [ 1.4806100e+02,  1.2722100e+02,  8.3320000e+01]],\n",
       "\n",
       "       [[-7.9390030e+00, -4.0778999e+01, -6.5680000e+01],\n",
       "        [-6.9390030e+00, -4.1778999e+01, -6.6680000e+01],\n",
       "        [-2.9390030e+00, -3.7778999e+01, -6.2680000e+01],\n",
       "        ...,\n",
       "        [ 1.5106100e+02,  1.3022101e+02,  8.6320000e+01],\n",
       "        [ 1.4806100e+02,  1.2722100e+02,  8.3320000e+01],\n",
       "        [ 1.4806100e+02,  1.2722100e+02,  8.3320000e+01]],\n",
       "\n",
       "       ...,\n",
       "\n",
       "       [[ 1.6060997e+01, -2.7789993e+00, -8.6800003e+00],\n",
       "        [ 1.3060997e+01, -5.7789993e+00, -1.1680000e+01],\n",
       "        [ 2.2060997e+01,  3.2210007e+00, -2.6800003e+00],\n",
       "        ...,\n",
       "        [ 1.7060997e+01,  6.2210007e+00,  3.1999969e-01],\n",
       "        [ 2.7060997e+01,  1.6221001e+01,  1.0320000e+01],\n",
       "        [ 2.7060997e+01,  1.6221001e+01,  1.0320000e+01]],\n",
       "\n",
       "       [[ 1.7060997e+01, -1.7789993e+00, -7.6800003e+00],\n",
       "        [ 1.4060997e+01, -4.7789993e+00, -1.0680000e+01],\n",
       "        [ 2.3060997e+01,  4.2210007e+00, -1.6800003e+00],\n",
       "        ...,\n",
       "        [ 1.8060997e+01,  7.2210007e+00,  1.3199997e+00],\n",
       "        [ 2.6060997e+01,  1.5221001e+01,  9.3199997e+00],\n",
       "        [ 2.6060997e+01,  1.5221001e+01,  9.3199997e+00]],\n",
       "\n",
       "       [[ 1.9060997e+01,  2.2100067e-01, -5.6800003e+00],\n",
       "        [ 1.5060997e+01, -3.7789993e+00, -9.6800003e+00],\n",
       "        [ 2.5060997e+01,  6.2210007e+00,  3.1999969e-01],\n",
       "        ...,\n",
       "        [ 2.0060997e+01,  9.2210007e+00,  3.3199997e+00],\n",
       "        [ 2.4060997e+01,  1.3221001e+01,  7.3199997e+00],\n",
       "        [ 2.4060997e+01,  1.3221001e+01,  7.3199997e+00]]], dtype=float32)"
      ]
     },
     "execution_count": 6,
     "metadata": {},
     "output_type": "execute_result"
    }
   ],
   "source": [
    "datagen = ImageDataGenerator(\n",
    "        rotation_range=40,\n",
    "        width_shift_range=0.2,\n",
    "        height_shift_range=0.2,\n",
    "        rescale=1./255,\n",
    "        shear_range=0.2,\n",
    "        zoom_range=0.2,\n",
    "        horizontal_flip=True,\n",
    "        fill_mode='nearest')"
   ]
  },
  {
   "cell_type": "code",
   "execution_count": null,
   "metadata": {},
   "outputs": [],
   "source": []
  }
 ],
 "metadata": {
  "kernelspec": {
   "display_name": "Python 3",
   "language": "python",
   "name": "python3"
  },
  "language_info": {
   "codemirror_mode": {
    "name": "ipython",
    "version": 3
   },
   "file_extension": ".py",
   "mimetype": "text/x-python",
   "name": "python",
   "nbconvert_exporter": "python",
   "pygments_lexer": "ipython3",
   "version": "3.6.5"
  }
 },
 "nbformat": 4,
 "nbformat_minor": 2
}
